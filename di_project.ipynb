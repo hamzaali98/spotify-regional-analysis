{
 "cells": [
  {
   "cell_type": "code",
   "execution_count": 20,
   "metadata": {},
   "outputs": [],
   "source": [
    "from pyspark import SparkContext\n",
    "from operator import add\n",
    "import pyspark\n",
    "from pyspark.sql import SparkSession\n",
    "from pyspark.sql.functions import mean, variance , lit,split,explode, col, when,udf,count\n",
    "from pyspark.sql.types import IntegralType,StringType\n",
    "import pyspark.sql.functions as F\n",
    "import os \n",
    "from matplotlib import pyplot as plt\n",
    "import pandas as pd"
   ]
  },
  {
   "cell_type": "markdown",
   "metadata": {},
   "source": [
    "### Initialize a spark session"
   ]
  },
  {
   "cell_type": "code",
   "execution_count": 2,
   "metadata": {},
   "outputs": [],
   "source": [
    "# Initialize a Spark session\n",
    "spark = SparkSession.builder.appName(\"Spotify Analytics\").getOrCreate()"
   ]
  },
  {
   "cell_type": "code",
   "execution_count": 3,
   "metadata": {},
   "outputs": [],
   "source": [
    "def get_country_paths():\n",
    "    root_directory = 'charts_data'  \n",
    "\n",
    "    country_paths = {}\n",
    "\n",
    "    for root, dirs, files in os.walk(root_directory):\n",
    "        for file in files:\n",
    "            if file.endswith(\"_chart_data.csv\"):\n",
    "                country_name = file.split('_')[0]\n",
    "                country_path = os.path.join(root, file)\n",
    "                country_paths[country_name] = country_path\n",
    "\n",
    "    return country_paths\n",
    "\n",
    "\n",
    "def get_country_df(country):\n",
    "    # Specify the path to your CSV file\n",
    "    filepath = country_paths[country]\n",
    "    df = spark.read.option(\"header\", \"true\").csv(filepath)\n",
    "    return df\n",
    "\n",
    "\n",
    "def get_audio_features_stats(country):\n",
    "    #filepath = f\"charts_data/charts_data_{continent}/{country}_chart_data.csv\"\n",
    "    filepath = country_paths[country]\n",
    "    df = spark.read.option(\"header\", \"true\").csv(filepath)\n",
    "    columns_to_process = [\"acousticness\", \"danceability\",\"energy\",\"instrumentalness\",\"liveness\",\"loudness\",\"mode\",\"speechiness\",\"tempo\",\"valence\"]\n",
    "\n",
    "    # Calculate the mean and variance for the specified columns\n",
    "    mean_df = df.select([mean(col).alias(col) for col in columns_to_process])\n",
    "    variance_df = df.select([variance(col).alias(col) for col in columns_to_process])\n",
    "\n",
    "    # Add a 'statistic' column to distinguish between mean and variance\n",
    "\n",
    "    mean_df = mean_df.select(lit(\"mean\").alias(\"Statistic\"),\"*\")\n",
    "    variance_df = variance_df.select(lit(\"variance\").alias(\"Statistic\"),\"*\")\n",
    "\n",
    "    # Union the two DataFrames\n",
    "    result = mean_df.union(variance_df)\n",
    "\n",
    "    # Show the result\n",
    "    return result\n",
    "\n",
    "def get_top_k_artists(country,k):\n",
    "    #filepath = f\"charts_data/charts_data_{continent}/{country}_chart_data.csv\"\n",
    "    filepath = country_paths[country]\n",
    "    country_df = spark.read.option(\"header\", \"true\").csv(filepath)\n",
    "\n",
    "    artists_played_df = country_df.select(\"Artist\",\"TrackName\",\"TimesRepeated\")\n",
    "\n",
    "    # we split the appeared artists in each track. And keep the first as the main one.\n",
    "    artists_played_df = artists_played_df.withColumn(\"Artist\", split(artists_played_df[\"Artist\"], \", \"))\n",
    "\n",
    "    artists_played_df = artists_played_df.withColumn(\"Artist\", col(\"Artist\")[0])\n",
    "    \n",
    "    # change the type of the column to integer \n",
    "    artists_played_df = artists_played_df.withColumn(\"TimesRepeated\",artists_played_df.TimesRepeated.cast('int'))\n",
    "\n",
    "    # Group by artists and calculate the total times played\n",
    "    artist_counts = artists_played_df.groupBy(\"Artist\").sum(\"TimesRepeated\").withColumnRenamed(\"sum(TimesRepeated)\", \"total_times_played\")\n",
    "\n",
    "\n",
    "    # Sort by total times played in descending order and select the top 10\n",
    "    top_k_artists = artist_counts.orderBy(\"total_times_played\", ascending=False).limit(k)\n",
    "\n",
    "    return top_k_artists\n",
    "\n",
    "\n",
    "def song_distribution(song_name, country_files):\n",
    "    # Create an empty dictionary to store the distribution\n",
    "    distribution = {}\n",
    "    total_count = 0\n",
    "    for country, csv_file in country_files.items():\n",
    "        # Read the CSV file into a Spark DataFrame\n",
    "        df = spark.read.csv(csv_file, header=True)\n",
    "\n",
    "        # Filter the DataFrame for the specified song name\n",
    "        times_heard = df.filter(col(\"TrackName\") == song_name).select(\"TimesRepeated\").collect()\n",
    "\n",
    "        n_heard = 0 if times_heard == [] else float(times_heard[0]['TimesRepeated'])\n",
    "        total_count += n_heard\n",
    "        # add the listened times to our dictionary\n",
    "        # print(f\"{country}: {n_heard}\")\n",
    "        distribution[country] = n_heard\n",
    "\n",
    "    for country in distribution.keys():\n",
    "        distribution[country] = distribution[country]/total_count\n",
    "\n",
    "    return distribution\n",
    "\n",
    "\n",
    "\n",
    "\n",
    "def visualize_song_popularity(song_name,distribution):\n",
    "    # Extract country names and popularity percentages\n",
    "    countries = list(distribution.keys())\n",
    "    popularity = list(distribution.values())\n",
    "\n",
    "    # Create a bar plot\n",
    "    plt.figure(figsize=(10, 6))\n",
    "    plt.bar(countries, popularity, color='royalblue')\n",
    "\n",
    "    # Add labels and title\n",
    "    plt.xlabel('Country')\n",
    "    plt.ylabel('Popularity Percentage')\n",
    "    plt.title(f'Song \"{song_name}\" Popularity by Country')\n",
    "\n",
    "    # Rotate the x-axis labels for better readability\n",
    "    plt.xticks(rotation=45)\n",
    "\n",
    "    # Show the plot\n",
    "    plt.tight_layout()\n",
    "    plt.show()\n",
    "\n",
    "\n",
    "\n",
    "# Define a UDF to categorize release dates into decades\n",
    "def categorize_decade(release_year):\n",
    "    if release_year is None:\n",
    "        return \"Unknown\"\n",
    "    elif release_year < 1970:\n",
    "        return \"Before 70s\"\n",
    "    elif 1970 <= release_year < 1980:\n",
    "        return \"70s\"\n",
    "    elif 1980 <= release_year < 1990:\n",
    "        return \"80s\"\n",
    "    elif 1990 <= release_year < 2000:\n",
    "        return \"90s\"\n",
    "    elif 2000 <= release_year < 2010:\n",
    "        return \"Earlys 2000\"\n",
    "    elif 2010 <= release_year < 2020:\n",
    "        return \"2010-2020\"\n",
    "    else:\n",
    "        return \"2020-present\"\n",
    "\n",
    "\n",
    "\n"
   ]
  },
  {
   "cell_type": "code",
   "execution_count": 4,
   "metadata": {},
   "outputs": [],
   "source": [
    "country_paths = get_country_paths()"
   ]
  },
  {
   "cell_type": "markdown",
   "metadata": {},
   "source": [
    "### Visualize the dataframe for a single country"
   ]
  },
  {
   "cell_type": "code",
   "execution_count": 5,
   "metadata": {},
   "outputs": [
    {
     "name": "stdout",
     "output_type": "stream",
     "text": [
      "+--------------------+--------------------+--------------------+-------------+------------+------------+------+----------------+----+--------+--------+----+-----------+-------+-------+------------+\n",
      "|              Artist|           TrackName|             TrackId|TimesRepeated|acousticness|danceability|energy|instrumentalness| key|liveness|loudness|mode|speechiness|  tempo|valence|release_date|\n",
      "+--------------------+--------------------+--------------------+-------------+------------+------------+------+----------------+----+--------+--------+----+-----------+-------+-------+------------+\n",
      "|           Babblarna| Babblarnas vaggvisa|spotify:track:3Gy...|        296.0|       0.828|       0.299| 0.234|        0.000101|11.0|  0.0959| -13.009| 1.0|     0.0321|186.369|  0.333|  2023-09-01|\n",
      "|              Avicii|          Wake Me Up|spotify:track:0nr...|        240.0|      0.0038|       0.532| 0.783|          0.0012| 2.0|   0.161|  -5.697| 1.0|     0.0523| 124.08|  0.643|  2013-01-01|\n",
      "|                Hov1|Hon dansar vidare...|spotify:track:1aE...|        219.0|      0.0267|       0.655| 0.651|             0.0| 8.0|   0.133|  -7.063| 1.0|      0.122| 90.054|  0.782|  2018-09-11|\n",
      "|       Lewis Capaldi|   Someone You Loved|spotify:track:7qE...|        216.0|       0.751|       0.501| 0.405|             0.0| 1.0|   0.105|  -5.679| 1.0|     0.0319|109.891|  0.446|  2019-05-17|\n",
      "|      Victor Leksell|                Svag|spotify:track:4SS...|        211.0|       0.748|       0.595| 0.528|             0.0| 5.0|   0.112|  -8.922| 0.0|     0.0621| 153.74|  0.419|  2020-06-17|\n",
      "|          The Weeknd|     Blinding Lights|spotify:track:0Vj...|        196.0|     0.00146|       0.514|  0.73|        9.54e-05| 1.0|  0.0897|  -5.934| 1.0|     0.0598|171.005|  0.334|  2020-03-20|\n",
      "|Lady Gaga, Bradle...|             Shallow|spotify:track:2Vx...|        185.0|       0.371|       0.572| 0.385|             0.0| 7.0|   0.231|  -6.362| 1.0|     0.0308| 95.799|  0.323|  2018-10-05|\n",
      "|1.Cuz, Greekazo, ...|             FÖRSENT|spotify:track:6mD...|        174.0|        0.18|       0.937| 0.707|        0.000376|10.0|   0.186|  -5.153| 0.0|      0.146|100.031|  0.766|  2019-11-29|\n",
      "|               Yasin|   Young & Heartless|spotify:track:6t0...|        166.0|        0.39|       0.829|  0.55|        3.47e-05| 8.0|   0.116|  -9.071| 1.0|        0.3|101.871|  0.867|  2020-05-22|\n",
      "|Avicii, Sandro Ca...|Without You (feat...|spotify:track:6Pg...|        161.0|     0.00163|       0.662| 0.858|             0.0| 2.0|  0.0456|  -4.844| 1.0|     0.0428|133.993|  0.295|  2017-08-10|\n",
      "+--------------------+--------------------+--------------------+-------------+------------+------------+------+----------------+----+--------+--------+----+-----------+-------+-------+------------+\n",
      "only showing top 10 rows\n",
      "\n"
     ]
    }
   ],
   "source": [
    "country_df = get_country_df(\"sweden\")\n",
    "country_df.show(10)"
   ]
  },
  {
   "cell_type": "markdown",
   "metadata": {},
   "source": [
    "### Get mean and variance from the audio features"
   ]
  },
  {
   "cell_type": "code",
   "execution_count": 6,
   "metadata": {},
   "outputs": [
    {
     "name": "stdout",
     "output_type": "stream",
     "text": [
      "+---------+-------------------+--------------------+--------------------+--------------------+--------------------+------------------+-------------------+--------------------+------------------+------------------+\n",
      "|Statistic|       acousticness|        danceability|              energy|    instrumentalness|            liveness|          loudness|               mode|         speechiness|             tempo|           valence|\n",
      "+---------+-------------------+--------------------+--------------------+--------------------+--------------------+------------------+-------------------+--------------------+------------------+------------------+\n",
      "|     mean| 0.2693238186351488|  0.6593242343268252|  0.6159827523124338|0.011734261190133616| 0.17195182901767414|-7.256826962597624| 0.5632488697081791| 0.12195244554048505|119.37949691738599|0.5234426859843799|\n",
      "| variance|0.06797859604371786|0.022149100187658918|0.028965699281423906|0.005321637114944656|0.017948042234064127| 6.816141030689112|0.25052680855473536|0.013095301438005783|     758.965065693| 4.049945560611678|\n",
      "+---------+-------------------+--------------------+--------------------+--------------------+--------------------+------------------+-------------------+--------------------+------------------+------------------+\n",
      "\n"
     ]
    }
   ],
   "source": [
    "stats = get_audio_features_stats(\"sweden\")\n",
    "stats.show()"
   ]
  },
  {
   "cell_type": "markdown",
   "metadata": {},
   "source": [
    "### Get top 10 artists for a country"
   ]
  },
  {
   "cell_type": "code",
   "execution_count": 7,
   "metadata": {},
   "outputs": [
    {
     "name": "stdout",
     "output_type": "stream",
     "text": [
      "+-------------+------------------+\n",
      "|       Artist|total_times_played|\n",
      "+-------------+------------------+\n",
      "|        Light|              2356|\n",
      "|         SNIK|              2041|\n",
      "|       TOQUEL|              1640|\n",
      "|     Mad Clip|              1563|\n",
      "|         RACK|              1364|\n",
      "|           Fy|              1028|\n",
      "|        Saske|               899|\n",
      "| Dani Gambino|               893|\n",
      "| Mente Fuerte|               860|\n",
      "|Billie Eilish|               834|\n",
      "+-------------+------------------+\n",
      "\n"
     ]
    }
   ],
   "source": [
    "top_artists = get_top_k_artists(\"greece\",10)\n",
    "top_artists.show()"
   ]
  },
  {
   "cell_type": "markdown",
   "metadata": {},
   "source": [
    "### Given a song get the distribution over the countries."
   ]
  },
  {
   "cell_type": "code",
   "execution_count": 8,
   "metadata": {},
   "outputs": [],
   "source": [
    "\n",
    "song_name = \"Wake Me Up\"\n",
    "#song_name = \"FÖRSENT\"\n",
    "#song_name = \"Shallow\"\n",
    "distribution = song_distribution(song_name, country_paths)"
   ]
  },
  {
   "cell_type": "code",
   "execution_count": 9,
   "metadata": {},
   "outputs": [
    {
     "data": {
      "image/png": "[encoded data removed]",
      "text/plain": [
       "<Figure size 720x432 with 1 Axes>"
      ]
     },
     "metadata": {
      "needs_background": "light"
     },
     "output_type": "display_data"
    }
   ],
   "source": [
    "visualize_song_popularity(song_name,distribution)"
   ]
  },
  {
   "cell_type": "markdown",
   "metadata": {},
   "source": [
    "### For each country distribution of release dates songs"
   ]
  },
  {
   "cell_type": "code",
   "execution_count": 26,
   "metadata": {},
   "outputs": [],
   "source": [
    "\n",
    "def distribution_release_dates(country):\n",
    "    custom_order = [\"Before 70s\", \"70s\", \"80s\", \"90s\", \"Earlys 2000\", \"2010-2020\", \"2020-present\"]\n",
    "\n",
    "    country_df = get_country_df(country)\n",
    "\n",
    "    # Register the UDF\n",
    "    categorize_decade_udf = udf(categorize_decade, StringType())\n",
    "\n",
    "    # Extract the year from the release_date column\n",
    "    songs_df = country_df.withColumn(\"release_year\", col(\"release_date\").cast(\"int\"))\n",
    "\n",
    "    # Create a new column for the decade using the UDF\n",
    "    songs_df = songs_df.withColumn(\"decade\", categorize_decade_udf(songs_df[\"release_year\"]))\n",
    "\n",
    "    # Group the data by the 'decade' column and count the number of songs in each decade\n",
    "    songs_by_decade = songs_df.groupBy(\"decade\").agg(count(\"TrackName\").alias(\"song_count\"))\n",
    "\n",
    "\n",
    "    \n",
    "    return songs_by_decade"
   ]
  },
  {
   "cell_type": "code",
   "execution_count": 33,
   "metadata": {},
   "outputs": [],
   "source": [
    "songs_by_decade = distribution_release_dates(\"germany\")"
   ]
  },
  {
   "cell_type": "code",
   "execution_count": 34,
   "metadata": {},
   "outputs": [
    {
     "name": "stdout",
     "output_type": "stream",
     "text": [
      "+------------+----------+\n",
      "|      decade|song_count|\n",
      "+------------+----------+\n",
      "|2020-present|         3|\n",
      "|         80s|         5|\n",
      "|     Unknown|      5838|\n",
      "|         90s|         2|\n",
      "|  Before 70s|        10|\n",
      "|   2010-2020|         3|\n",
      "| Earlys 2000|         7|\n",
      "+------------+----------+\n",
      "\n"
     ]
    }
   ],
   "source": [
    "songs_by_decade.show()"
   ]
  },
  {
   "cell_type": "code",
   "execution_count": 25,
   "metadata": {},
   "outputs": [
    {
     "data": {
      "image/png": "[encoded data removed]",
      "text/plain": [
       "<Figure size 720x432 with 1 Axes>"
      ]
     },
     "metadata": {
      "needs_background": "light"
     },
     "output_type": "display_data"
    }
   ],
   "source": [
    "# Convert the PySpark DataFrame to a Pandas DataFrame\n",
    "songs_by_decade_pd = songs_by_decade.toPandas()\n",
    "\n",
    "# Plot the bar chart\n",
    "plt.figure(figsize=(10, 6))\n",
    "plt.bar(songs_by_decade_pd['decade'], songs_by_decade_pd['song_count'])\n",
    "plt.title('Distribution of Songs by Decade')\n",
    "plt.xlabel('Decade')\n",
    "plt.ylabel('Number of Songs')\n",
    "plt.xticks(rotation=45)  # Rotate x-axis labels for better readability\n",
    "plt.show()"
   ]
  },
  {
   "cell_type": "code",
   "execution_count": null,
   "metadata": {},
   "outputs": [],
   "source": []
  }
 ],
 "metadata": {
  "kernelspec": {
   "display_name": "Python 3",
   "language": "python",
   "name": "python3"
  },
  "language_info": {
   "codemirror_mode": {
    "name": "ipython",
    "version": 3
   },
   "file_extension": ".py",
   "mimetype": "text/x-python",
   "name": "python",
   "nbconvert_exporter": "python",
   "pygments_lexer": "ipython3",
   "version": "3.8.10"
  }
 },
 "nbformat": 4,
 "nbformat_minor": 2
}
